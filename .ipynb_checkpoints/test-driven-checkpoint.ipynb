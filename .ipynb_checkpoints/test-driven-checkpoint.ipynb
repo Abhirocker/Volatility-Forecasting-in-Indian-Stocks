{
 "cells": [
  {
   "cell_type": "markdown",
   "id": "b2ee6e2b",
   "metadata": {},
   "source": [
    "# Test Driven Development"
   ]
  },
  {
   "cell_type": "code",
   "execution_count": null,
   "id": "5bdb1cde",
   "metadata": {},
   "outputs": [],
   "source": [
    "%load_ext autoreload\n",
    "%load_ext sql\n",
    "%autoreload 2\n",
    "\n",
    "import sqlite3\n",
    "\n",
    "import matplotlib.pyplot as plt\n",
    "import pandas as pd\n",
    "import wqet_grader\n",
    "from config import settings\n",
    "from IPython.display import VimeoVideo\n",
    "\n",
    "wqet_grader.init(\"Project 8 Assessment\")"
   ]
  },
  {
   "cell_type": "markdown",
   "id": "5930d23d",
   "metadata": {},
   "source": [
    "# Building Our Data Module"
   ]
  },
  {
   "cell_type": "markdown",
   "id": "a91eb836",
   "metadata": {},
   "source": [
    "## AlphaVantage API Class"
   ]
  },
  {
   "cell_type": "code",
   "execution_count": null,
   "id": "8018c01e",
   "metadata": {},
   "outputs": [],
   "source": [
    "# Import `AlphaVantageAPI`\n",
    "from data import AlphaVantageAPI\n",
    "\n",
    "# Create instance of `AlphaVantageAPI` class\n",
    "av = AlphaVantageAPI()\n",
    "\n",
    "print(\"av type:\", type(av))"
   ]
  },
  {
   "cell_type": "code",
   "execution_count": null,
   "id": "69b7bc92",
   "metadata": {},
   "outputs": [],
   "source": [
    "# Define Suzlon ticker symbol\n",
    "ticker = \"SUZLON.BSE\"\n",
    "\n",
    "# Use your `av` object to get daily data\n",
    "df_suzlon = av.get_daily(ticker=ticker)\n",
    "\n",
    "print(\"df_suzlon type:\", type(df_suzlon))\n",
    "print(\"df_suzlon shape:\", df_suzlon.shape)\n",
    "df_suzlon.head()"
   ]
  },
  {
   "cell_type": "code",
   "execution_count": null,
   "id": "10da8773",
   "metadata": {},
   "outputs": [],
   "source": [
    "df_suzlon.index.name"
   ]
  },
  {
   "cell_type": "code",
   "execution_count": null,
   "id": "bc09367b",
   "metadata": {},
   "outputs": [],
   "source": [
    "# Does `get_daily` return a DataFrame?\n",
    "assert isinstance(df_suzlon, pd.DataFrame)\n",
    "\n",
    "# Does DataFrame have 5 columns?\n",
    "assert df_suzlon.shape[1] == 5\n",
    "\n",
    "# Does DataFrame have a DatetimeIndex?\n",
    "assert isinstance(df_suzlon.index, pd.DatetimeIndex)\n",
    "\n",
    "# Is the index name \"date\"?\n",
    "assert df_suzlon.index.name == \"date\""
   ]
  },
  {
   "cell_type": "code",
   "execution_count": null,
   "id": "059ccb37",
   "metadata": {},
   "outputs": [],
   "source": [
    "# Does DataFrame have correct column names?\n",
    "assert df_suzlon.columns.to_list() == ['open', 'high', 'low', 'close', 'volume']\n",
    "\n",
    "# Are columns correct data type?\n",
    "assert all(df_suzlon.dtypes == float)"
   ]
  },
  {
   "cell_type": "markdown",
   "id": "05a893da",
   "metadata": {},
   "source": [
    "## SQL Repository Class"
   ]
  },
  {
   "cell_type": "code",
   "execution_count": null,
   "id": "4a8c9510",
   "metadata": {},
   "outputs": [],
   "source": [
    "connection = sqlite3.connect(database=settings.db_name, check_same_thread=False)\n",
    "\n",
    "print(\"connection type:\", type(connection))"
   ]
  },
  {
   "cell_type": "code",
   "execution_count": null,
   "id": "c8a4f7f8",
   "metadata": {},
   "outputs": [],
   "source": [
    "# Import class definition\n",
    "from data import SQLRepository\n",
    "\n",
    "# Create instance of class\n",
    "repo = SQLRepository(connection=connection)\n",
    "\n",
    "# Does `repo` have a \"connection\" attribute?\n",
    "assert hasattr(repo, \"connection\")\n",
    "\n",
    "# Is the \"connection\" attribute a SQLite `Connection`?\n",
    "assert isinstance(repo.connection, sqlite3.Connection)"
   ]
  },
  {
   "cell_type": "code",
   "execution_count": null,
   "id": "7a824a6e",
   "metadata": {},
   "outputs": [],
   "source": [
    "response = repo.insert_table(table_name=ticker, records=df_suzlon, if_exists=\"replace\")\n",
    "\n",
    "# Does your method return a dictionary?\n",
    "assert isinstance(response, dict)\n",
    "\n",
    "# Are the keys of that dictionary correct?\n",
    "assert sorted(list(response.keys())) == [\"records_inserted\", \"transaction_successful\"]"
   ]
  },
  {
   "cell_type": "code",
   "execution_count": null,
   "id": "3630fd73",
   "metadata": {},
   "outputs": [],
   "source": [
    "%sql sqlite:////home/jovyan/work/ds-curriculum/080-volatility-forecasting-in-india/stocks.sqlite"
   ]
  },
  {
   "cell_type": "code",
   "execution_count": null,
   "id": "7e173d22",
   "metadata": {},
   "outputs": [],
   "source": [
    "%%sql\n",
    "SELECT *\n",
    "FROM 'SUZLON.BSE'\n",
    "LIMIT 5"
   ]
  },
  {
   "cell_type": "code",
   "execution_count": null,
   "id": "dee5e990",
   "metadata": {},
   "outputs": [],
   "source": [
    "sql = \"SELECT * FROM 'SUZLON.BSE'\"\n",
    "df_suzlon_test = pd.read_sql(\n",
    "    sql=sql, con=connection, parse_dates=[\"dates\"], index_col=\"date\"\n",
    ")\n",
    "\n",
    "print(\"df_suzlon_test type:\", type(df_suzlon_test))\n",
    "print()\n",
    "print(df_suzlon_test.info())\n",
    "df_suzlon_test.head()"
   ]
  },
  {
   "cell_type": "code",
   "execution_count": null,
   "id": "1de5ef67",
   "metadata": {},
   "outputs": [],
   "source": [
    "# Assign `read_table` output to `df_suzlon`\n",
    "df_suzlon = repo.read_table(table_name=\"SUZLON.BSE\", limit=2500)  # noQA F821\n",
    "\n",
    "# Is `df_suzlon` a DataFrame?\n",
    "assert isinstance(df_suzlon, pd.DataFrame)\n",
    "\n",
    "# Does it have a `DatetimeIndex`?\n",
    "assert isinstance(df_suzlon.index, pd.DatetimeIndex)\n",
    "\n",
    "# Is the index named \"date\"?\n",
    "assert df_suzlon.index.name == \"date\"\n",
    "\n",
    "# Does it have 2,500 rows and 5 columns?\n",
    "assert df_suzlon.shape == (2500, 5)\n",
    "\n",
    "# Are the column names correct?\n",
    "assert df_suzlon.columns.to_list() == ['open', 'high', 'low', 'close', 'volume']\n",
    "\n",
    "# Are the column data types correct?\n",
    "assert all(df_suzlon.dtypes == float)\n",
    "\n",
    "# Print `df_suzlon` info\n",
    "print(\"df_suzlon shape:\", df_suzlon.shape)\n",
    "print()\n",
    "print(df_suzlon.info())\n",
    "df_suzlon.head()"
   ]
  },
  {
   "cell_type": "code",
   "execution_count": null,
   "id": "916c8456",
   "metadata": {},
   "outputs": [],
   "source": [
    "def read_table(table_name, limit=None):\n",
    "\n",
    "    \"\"\"Read table from database.\n",
    "\n",
    "    Parameters\n",
    "    ----------\n",
    "    table_name : str\n",
    "        Name of table in SQLite database.\n",
    "    limit : int, None, optional\n",
    "        Number of most recent records to retrieve. If `None`, all\n",
    "        records are retrieved. By default, `None`.\n",
    "\n",
    "    Returns\n",
    "    -------\n",
    "    pd.DataFrame\n",
    "        Index is DatetimeIndex \"date\". Columns are 'open', 'high',\n",
    "        'low', 'close', and 'volume'. All columns are numeric.\n",
    "    \"\"\"\n",
    "    # Create SQL query (with optional limit)\n",
    "    if limit:\n",
    "        sql = f\"SELECT * FROM '{table_name}' LIMIT {limit}\"\n",
    "    else:\n",
    "        sql = f\"SELECT * FROM '{table_name}'\"\n",
    "\n",
    "    # Retrieve data, read into DataFrame\n",
    "    df = pd.read_sql(\n",
    "        sql=sql, con=connection, parse_dates=[\"date\"], index_col=\"date\"\n",
    "    )\n",
    "\n",
    "    # Return DataFrame\n",
    "    return df"
   ]
  },
  {
   "cell_type": "markdown",
   "id": "0bc00d2e",
   "metadata": {},
   "source": [
    "## Comparing Stock Returns"
   ]
  },
  {
   "cell_type": "code",
   "execution_count": null,
   "id": "ff4a3502",
   "metadata": {},
   "outputs": [],
   "source": [
    "ticker = \"AMBUJACEM.BSE\"\n",
    "\n",
    "# Get Ambuja data using `av`\n",
    "ambuja_records = av.get_daily(ticker=ticker)\n",
    "\n",
    "# Insert `ambuja_records` database using `repo`\n",
    "response = repo.insert_table(\n",
    "    table_name=ticker, records=ambuja_records, if_exists=\"replace\" \n",
    ")\n",
    "\n",
    "response"
   ]
  },
  {
   "cell_type": "code",
   "execution_count": null,
   "id": "a363a51b",
   "metadata": {},
   "outputs": [],
   "source": [
    "ambuja_records.shape"
   ]
  },
  {
   "cell_type": "code",
   "execution_count": null,
   "id": "398d1bb1",
   "metadata": {},
   "outputs": [],
   "source": [
    "ticker = \"AMBUJACEM.BSE\"\n",
    "df_ambuja = repo.read_table(table_name=ticker, limit=2500)\n",
    "\n",
    "print(\"df_ambuja type:\", type(df_ambuja))\n",
    "print(\"df_ambuja shape:\", df_ambuja.shape)\n",
    "df_ambuja.head()"
   ]
  },
  {
   "cell_type": "code",
   "execution_count": null,
   "id": "27ee9aaf",
   "metadata": {},
   "outputs": [],
   "source": [
    "fig, ax = plt.subplots(figsize=(15, 6))\n",
    "# Plot `df_ambuja` closing price\n",
    "df_ambuja[\"close\"].plot(ax=ax, label=\"AMBUJACEM\", color=\"C1\")\n",
    "\n",
    "# Label axes\n",
    "plt.xlabel(\"Date\")\n",
    "plt.ylabel(\"Closing Price\")\n",
    "\n",
    "\n",
    "# Add legend\n",
    "plt.legend();"
   ]
  },
  {
   "cell_type": "code",
   "execution_count": null,
   "id": "f681d10e",
   "metadata": {},
   "outputs": [],
   "source": [
    "fig, ax = plt.subplots(figsize=(15, 6))\n",
    "# Plot `df_suzlon` and `df_ambuja`\n",
    "df_suzlon[\"close\"].plot(ax=ax, label=\"SUZLON\")\n",
    "df_ambuja[\"close\"].plot(ax=ax, label=\"AMBUJACEM\")\n",
    "\n",
    "# Label axes\n",
    "plt.xlabel(\"Date\")\n",
    "plt.ylabel(\"Closing Price\")\n",
    "\n",
    "\n",
    "# Add legend\n",
    "plt.legend();"
   ]
  },
  {
   "cell_type": "code",
   "execution_count": null,
   "id": "eebaf93f",
   "metadata": {},
   "outputs": [],
   "source": [
    "# Sort DataFrame ascending by date\n",
    "df_ambuja.sort_index(ascending=True, inplace=True)\n",
    "\n",
    "# Create \"return\" column\n",
    "df_ambuja[\"return\"] = df_ambuja[\"close\"].pct_change() * 100\n",
    "\n",
    "print(\"df_ambuja shape:\", df_ambuja.shape)\n",
    "print(df_ambuja.info())\n",
    "df_ambuja.head()"
   ]
  },
  {
   "cell_type": "code",
   "execution_count": null,
   "id": "c116bf9d",
   "metadata": {},
   "outputs": [],
   "source": [
    "# Sort DataFrame ascending by date\n",
    "df_suzlon.sort_index(ascending=True, inplace=True)\n",
    "\n",
    "# Create \"return\" column\n",
    "df_suzlon[\"return\"] = df_suzlon[\"close\"].pct_change() * 100\n",
    "\n",
    "print(\"df_suzlon shape:\", df_suzlon.shape)\n",
    "print(df_suzlon.info())\n",
    "df_suzlon.head()"
   ]
  },
  {
   "cell_type": "code",
   "execution_count": null,
   "id": "853db754",
   "metadata": {},
   "outputs": [],
   "source": [
    "fig, ax = plt.subplots(figsize=(15, 6))\n",
    "# Plot returns for `df_suzlon` and `df_ambuja`\n",
    "df_suzlon[\"return\"].plot(ax=ax, label=\"SUZLON\")\n",
    "df_ambuja[\"return\"].plot(ax=ax, label=\"AMBUJACEM\")\n",
    "\n",
    "# Label axes\n",
    "plt.xlabel(\"Date\")\n",
    "plt.ylabel(\"Daily Return\")\n",
    "\n",
    "\n",
    "# Add legend\n",
    "plt.legend();"
   ]
  }
 ],
 "metadata": {
  "kernelspec": {
   "display_name": "Python 3 (ipykernel)",
   "language": "python",
   "name": "python3"
  },
  "language_info": {
   "codemirror_mode": {
    "name": "ipython",
    "version": 3
   },
   "file_extension": ".py",
   "mimetype": "text/x-python",
   "name": "python",
   "nbconvert_exporter": "python",
   "pygments_lexer": "ipython3",
   "version": "3.11.4"
  }
 },
 "nbformat": 4,
 "nbformat_minor": 5
}
