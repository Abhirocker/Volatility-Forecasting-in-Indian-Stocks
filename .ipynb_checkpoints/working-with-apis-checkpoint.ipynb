{
 "cells": [
  {
   "cell_type": "code",
   "execution_count": 1,
   "id": "870b44a9",
   "metadata": {},
   "outputs": [],
   "source": [
    "import pandas as pd\n",
    "import requests"
   ]
  },
  {
   "cell_type": "markdown",
   "id": "56552ff5",
   "metadata": {},
   "source": [
    "# Accessing APIs Through a URL"
   ]
  },
  {
   "cell_type": "code",
   "execution_count": 2,
   "id": "f88e17bf",
   "metadata": {},
   "outputs": [
    {
     "name": "stdout",
     "output_type": "stream",
     "text": [
      "url type: <class 'str'>\n"
     ]
    },
    {
     "data": {
      "text/plain": [
       "'https://www.alphavantage.co/query?function=TIME_SERIES_DAILY&symbol=AMBUJACEM.BSE&apikey=demo'"
      ]
     },
     "execution_count": 2,
     "metadata": {},
     "output_type": "execute_result"
    }
   ],
   "source": [
    "url = (\n",
    "    \"https://www.alphavantage.co/query?\"\n",
    "    \"function=TIME_SERIES_DAILY&\"\n",
    "    \"symbol=AMBUJACEM.BSE&\"\n",
    "    \"apikey=demo\"\n",
    ")\n",
    "\n",
    "print(\"url type:\", type(url))\n",
    "url"
   ]
  },
  {
   "cell_type": "code",
   "execution_count": 3,
   "id": "297e00ae",
   "metadata": {},
   "outputs": [
    {
     "ename": "ModuleNotFoundError",
     "evalue": "No module named 'config'",
     "output_type": "error",
     "traceback": [
      "\u001b[1;31m---------------------------------------------------------------------------\u001b[0m",
      "\u001b[1;31mModuleNotFoundError\u001b[0m                       Traceback (most recent call last)",
      "Cell \u001b[1;32mIn[3], line 2\u001b[0m\n\u001b[0;32m      1\u001b[0m \u001b[38;5;66;03m# Import settings\u001b[39;00m\n\u001b[1;32m----> 2\u001b[0m \u001b[38;5;28;01mfrom\u001b[39;00m \u001b[38;5;21;01mconfig\u001b[39;00m \u001b[38;5;28;01mimport\u001b[39;00m settings\n\u001b[0;32m      4\u001b[0m \u001b[38;5;66;03m# Use `dir` to list attributes\u001b[39;00m\n\u001b[0;32m      5\u001b[0m \u001b[38;5;28mdir\u001b[39m(settings)\n",
      "\u001b[1;31mModuleNotFoundError\u001b[0m: No module named 'config'"
     ]
    }
   ],
   "source": [
    "# Import settings\n",
    "from config import settings\n",
    "\n",
    "# Use `dir` to list attributes\n",
    "dir(settings)\n",
    "settings.alpha_api_key"
   ]
  },
  {
   "cell_type": "code",
   "execution_count": null,
   "id": "9ba56f4f",
   "metadata": {},
   "outputs": [],
   "source": [
    "url = (\n",
    "    \"https://learn-api.wqu.edu/1/data-services/alpha-vantage/query?\"\n",
    "    \"function=TIME_SERIES_DAILY&\"\n",
    "    \"symbol=AMBUJACEM.BSE&\"\n",
    "    f\"apikey={settings.alpha_api_key}\"\n",
    ")\n",
    "\n",
    "print(\"url type:\", type(url))\n",
    "url"
   ]
  },
  {
   "cell_type": "code",
   "execution_count": null,
   "id": "7fdc8d28",
   "metadata": {},
   "outputs": [],
   "source": [
    "ticker = \"AMBUJACEM.BSE\"\n",
    "output_size = \"compact\"\n",
    "data_type = \"json\"\n",
    "\n",
    "url = (\n",
    "    \"https://learn-api.wqu.edu/1/data-services/alpha-vantage/query?\"\n",
    "    \"function=TIME_SERIES_DAILY&\"\n",
    "    f\"symbol={ticker}&\"\n",
    "    f\"outputsize={output_size}&\"\n",
    "    f\"datatype={data_type}&\"\n",
    "    f\"apikey={settings.alpha_api_key}\"\n",
    ")\n",
    "\n",
    "print(\"url type:\", type(url))\n",
    "url"
   ]
  },
  {
   "cell_type": "markdown",
   "id": "dd5efc66",
   "metadata": {},
   "source": [
    "# Accessing APIs Through a Request"
   ]
  },
  {
   "cell_type": "code",
   "execution_count": null,
   "id": "030eed51",
   "metadata": {},
   "outputs": [],
   "source": [
    "response = requests.get(url=url)\n",
    "\n",
    "print(\"response type:\", type(response))"
   ]
  },
  {
   "cell_type": "code",
   "execution_count": null,
   "id": "fd862845",
   "metadata": {},
   "outputs": [],
   "source": [
    "# Use `dir` on your `response`\n",
    "dir(response)"
   ]
  },
  {
   "cell_type": "code",
   "execution_count": null,
   "id": "0f0b5377",
   "metadata": {},
   "outputs": [],
   "source": [
    "response_code = response.status_code\n",
    "\n",
    "print(\"code type:\", type(response_code))\n",
    "response_code"
   ]
  },
  {
   "cell_type": "code",
   "execution_count": null,
   "id": "9f56bac9",
   "metadata": {},
   "outputs": [],
   "source": [
    "response_text = response.text\n",
    "\n",
    "print(\"response_text type:\", type(response_text))\n",
    "print(response_text[:200])"
   ]
  },
  {
   "cell_type": "code",
   "execution_count": null,
   "id": "d8ac5e00",
   "metadata": {},
   "outputs": [],
   "source": [
    "response_data = response.json()\n",
    "\n",
    "print(\"response_data type:\", type(response_data))"
   ]
  },
  {
   "cell_type": "code",
   "execution_count": null,
   "id": "4330fa97",
   "metadata": {},
   "outputs": [],
   "source": [
    "# Print `response_data` keys\n",
    "response_data.keys()"
   ]
  },
  {
   "cell_type": "code",
   "execution_count": null,
   "id": "b6e874bc",
   "metadata": {},
   "outputs": [],
   "source": [
    "# Extract `\"Time Series (Daily)\"` value from `response_data`\n",
    "stock_data = response_data[\"Time Series (Daily)\"]\n",
    "\n",
    "print(\"stock_data type:\", type(stock_data))\n",
    "\n",
    "# Extract data for one of the days in `stock_data`\n",
    "stock_data.keys()"
   ]
  },
  {
   "cell_type": "code",
   "execution_count": null,
   "id": "54d703bb",
   "metadata": {},
   "outputs": [],
   "source": [
    "stock_data['2024-07-18']"
   ]
  },
  {
   "cell_type": "code",
   "execution_count": null,
   "id": "0d882104",
   "metadata": {},
   "outputs": [],
   "source": [
    "df_ambuja = pd.DataFrame.from_dict(stock_data, orient=\"index\", dtype=float)\n",
    "\n",
    "print(\"df_ambuja shape:\", df_ambuja.shape)\n",
    "print()\n",
    "print(df_ambuja.info())\n",
    "df_ambuja.head(10)"
   ]
  },
  {
   "cell_type": "code",
   "execution_count": null,
   "id": "642b0d2c",
   "metadata": {},
   "outputs": [],
   "source": [
    "# Convert `df_ambuja` index to `DatetimeIndex`\n",
    "df_ambuja.index = pd.to_datetime(df_ambuja.index)\n",
    "\n",
    "# Name index \"date\"\n",
    "df_ambuja.index.name = \"date\"\n",
    "\n",
    "print(df_ambuja.info())\n",
    "df_ambuja.head()"
   ]
  },
  {
   "cell_type": "code",
   "execution_count": null,
   "id": "45b8dc47",
   "metadata": {},
   "outputs": [],
   "source": [
    "# Remove numbering from `df_ambuja` column names\n",
    "df_ambuja.columns = [c.split(\". \")[1] for c in df_ambuja.columns]\n",
    "\n",
    "print(df_ambuja.info())\n",
    "df_ambuja.head()"
   ]
  },
  {
   "cell_type": "markdown",
   "id": "60b1969c",
   "metadata": {},
   "source": [
    "# Defensive Programming"
   ]
  },
  {
   "cell_type": "markdown",
   "id": "ed3b126c",
   "metadata": {},
   "source": [
    "Defensive programming is the practice of writing code which will continue to function, even if something goes wrong. We'll never be able to foresee all the problems people might run into with our code, but we can take steps to make sure things don't fall apart whenever one of those problems happens.\n",
    "\n",
    "So far, we've made API requests where everything works. But coding errors and problems with servers are common, and they can cause big issues in a data science project. Let's see how our response changes when we introduce common bugs in our code."
   ]
  },
  {
   "cell_type": "code",
   "execution_count": null,
   "id": "c1781cb1",
   "metadata": {},
   "outputs": [],
   "source": [
    "def get_daily(ticker, output_size=\"full\"):\n",
    "\n",
    "    \"\"\"Get daily time series of an equity from AlphaVantage API.\n",
    "\n",
    "    Parameters\n",
    "    ----------\n",
    "    ticker : str\n",
    "        The ticker symbol of the equity.\n",
    "    output_size : str, optional\n",
    "        Number of observations to retrieve. \"compact\" returns the\n",
    "        latest 100 observations. \"full\" returns all observations for\n",
    "        equity. By default \"full\".\n",
    "\n",
    "    Returns\n",
    "    -------\n",
    "    pd.DataFrame\n",
    "        Columns are 'open', 'high', 'low', 'close', and 'volume'.\n",
    "        All are numeric.\n",
    "    \"\"\"\n",
    "    # Create URL (8.1.5)\n",
    "    url = (\n",
    "        \"https://learn-api.wqu.edu/1/data-services/alpha-vantage/query?\"\n",
    "        \"function=TIME_SERIES_DAILY&\"\n",
    "        f\"symbol={ticker}&\"\n",
    "        f\"outputsize={output_size}&\"\n",
    "        f\"datatype=json&\"\n",
    "        f\"apikey={settings.alpha_api_key}\"\n",
    "    )\n",
    "\n",
    "    # Send request to API (8.1.6)\n",
    "    response = requests.get(url=url)\n",
    "\n",
    "    # Extract JSON data from response (8.1.10)\n",
    "    response_data = response.json()\n",
    "    \n",
    "    if \"Time Series (Daily)\" not in response_data.keys():\n",
    "        raise Exception(\n",
    "            f\"Invalid API call. Check that ticker symmbol {ticker} is correct.\"\n",
    "        )\n",
    "    \n",
    "    # Read data into DataFrame (8.1.12 & 8.1.13)\n",
    "    stock_data = response_data[\"Time Series (Daily)\"]\n",
    "    df = pd.DataFrame.from_dict(stock_data, orient=\"index\", dtype=float)\n",
    "\n",
    "    # Convert index to `DatetimeIndex` named \"date\" (8.1.14)\n",
    "    df.index = pd.to_datetime(df.index)\n",
    "    df.index.name = \"date\"\n",
    "\n",
    "    # Remove numbering from columns (8.1.15)\n",
    "    df.columns = [c.split(\". \")[1] for c in df.columns]\n",
    "\n",
    "    # Return DataFrame\n",
    "    return df"
   ]
  },
  {
   "cell_type": "code",
   "execution_count": null,
   "id": "1062f154",
   "metadata": {},
   "outputs": [],
   "source": [
    "# Test your function\n",
    "df_ambuja = get_daily(ticker=\"IBM\", output_size=\"full\")\n",
    "\n",
    "print(df_ambuja.info())\n",
    "df_ambuja.head()"
   ]
  },
  {
   "cell_type": "code",
   "execution_count": null,
   "id": "8b1f8fb0",
   "metadata": {},
   "outputs": [],
   "source": [
    "# Test your Exception\n",
    "df_test = get_daily(ticker=\"AMBUJACEM.BSE\")"
   ]
  },
  {
   "cell_type": "code",
   "execution_count": null,
   "id": "ee7eed2b",
   "metadata": {},
   "outputs": [],
   "source": []
  },
  {
   "cell_type": "code",
   "execution_count": null,
   "id": "487ac4d0",
   "metadata": {},
   "outputs": [],
   "source": []
  },
  {
   "cell_type": "code",
   "execution_count": null,
   "id": "b9294c87",
   "metadata": {},
   "outputs": [],
   "source": []
  }
 ],
 "metadata": {
  "kernelspec": {
   "display_name": "Python 3 (ipykernel)",
   "language": "python",
   "name": "python3"
  },
  "language_info": {
   "codemirror_mode": {
    "name": "ipython",
    "version": 3
   },
   "file_extension": ".py",
   "mimetype": "text/x-python",
   "name": "python",
   "nbconvert_exporter": "python",
   "pygments_lexer": "ipython3",
   "version": "3.11.4"
  }
 },
 "nbformat": 4,
 "nbformat_minor": 5
}
