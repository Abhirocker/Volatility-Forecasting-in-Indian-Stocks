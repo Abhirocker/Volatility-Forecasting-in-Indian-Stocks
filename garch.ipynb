{
 "cells": [
  {
   "cell_type": "markdown",
   "id": "2ccc374f",
   "metadata": {},
   "source": [
    "# Predicting Volatility"
   ]
  },
  {
   "cell_type": "code",
   "execution_count": null,
   "id": "f9488b41",
   "metadata": {},
   "outputs": [],
   "source": [
    "import sqlite3\n",
    "\n",
    "import matplotlib.pyplot as plt\n",
    "import numpy as np\n",
    "import pandas as pd\n",
    "import wqet_grader\n",
    "from arch import arch_model\n",
    "from config import settings\n",
    "from data import SQLRepository\n",
    "from IPython.display import VimeoVideo\n",
    "from statsmodels.graphics.tsaplots import plot_acf, plot_pacf"
   ]
  },
  {
   "cell_type": "markdown",
   "id": "d4262dd9",
   "metadata": {},
   "source": [
    "# Prepare Data"
   ]
  },
  {
   "cell_type": "markdown",
   "id": "4d244d77",
   "metadata": {},
   "source": [
    "## Import"
   ]
  },
  {
   "cell_type": "code",
   "execution_count": null,
   "id": "ad123690",
   "metadata": {},
   "outputs": [],
   "source": [
    "connection = sqlite3.connect(settings.db_name, check_same_thread=False)\n",
    "repo = SQLRepository(connection=connection)\n",
    "\n",
    "print(\"repo type:\", type(repo))\n",
    "print(\"repo.connection type:\", type(repo.connection))"
   ]
  },
  {
   "cell_type": "code",
   "execution_count": null,
   "id": "c3fec3fe",
   "metadata": {},
   "outputs": [],
   "source": [
    "df_ambuja = repo.read_table(table_name=\"AMBUJACEM.BSE\", limit=2500)\n",
    "\n",
    "print(\"df_ambuja type:\", type(df_ambuja))\n",
    "print(\"df_ambuja shape:\", df_ambuja.shape)\n",
    "df_ambuja.head()"
   ]
  },
  {
   "cell_type": "code",
   "execution_count": null,
   "id": "b5e80c49",
   "metadata": {},
   "outputs": [],
   "source": [
    "def wrangle_data(ticker, n_observations):\n",
    "\n",
    "    \"\"\"Extract table data from database. Calculate returns.\n",
    "\n",
    "    Parameters\n",
    "    ----------\n",
    "    ticker : str\n",
    "        The ticker symbol of the stock (also table name in database).\n",
    "\n",
    "    n_observations : int\n",
    "        Number of observations to return.\n",
    "\n",
    "    Returns\n",
    "    -------\n",
    "    pd.Series\n",
    "        Name will be `\"return\"`. There will be no `NaN` values.\n",
    "    \"\"\"\n",
    "    # Get table from database\n",
    "    df = repo.read_table(table_name=ticker, limit=n_observations+1)\n",
    "\n",
    "    # Sort DataFrame ascending by date\n",
    "    df.sort_index(ascending=True, inplace=True)\n",
    "\n",
    "    # Create \"return\" column\n",
    "    df[\"return\"] = df[\"close\"].pct_change() * 100\n",
    "\n",
    "    # Return returns\n",
    "    return df[\"return\"].dropna()"
   ]
  },
  {
   "cell_type": "code",
   "execution_count": null,
   "id": "58ee53a1",
   "metadata": {},
   "outputs": [],
   "source": [
    "y_ambuja = wrangle_data(ticker=\"AMBUJACEM.BSE\", n_observations=2500)\n",
    "\n",
    "# Is `y_ambuja` a Series?\n",
    "assert isinstance(y_ambuja, pd.Series)\n",
    "\n",
    "# Are there 2500 observations in the Series?\n",
    "assert len(y_ambuja) == 2500\n",
    "\n",
    "# Is `y_ambuja` name \"return\"?\n",
    "assert y_ambuja.name == \"return\"\n",
    "\n",
    "# Does `y_ambuja` have a DatetimeIndex?\n",
    "assert isinstance(y_ambuja.index, pd.DatetimeIndex)\n",
    "\n",
    "# Is index sorted ascending?\n",
    "assert all(y_ambuja.index == y_ambuja.sort_index(ascending=True).index)\n",
    "\n",
    "# Are there no `NaN` values?\n",
    "assert y_ambuja.isnull().sum() == 0\n",
    "\n",
    "y_ambuja.head()"
   ]
  },
  {
   "cell_type": "code",
   "execution_count": null,
   "id": "269b7ab1",
   "metadata": {},
   "outputs": [],
   "source": [
    "y_suzlon = wrangle_data(ticker=\"SUZLON.BSE\", n_observations=2500)\n",
    "\n",
    "print(\"y_suzlon type:\", type(y_suzlon))\n",
    "print(\"y_suzlon shape:\", y_suzlon.shape)\n",
    "y_suzlon.head()"
   ]
  },
  {
   "cell_type": "markdown",
   "id": "78ebbdb6",
   "metadata": {},
   "source": [
    "## Explore"
   ]
  },
  {
   "cell_type": "code",
   "execution_count": null,
   "id": "1975f535",
   "metadata": {},
   "outputs": [],
   "source": [
    "fig, ax = plt.subplots(figsize=(15, 6))\n",
    "\n",
    "# Plot returns for `df_suzlon` and `df_ambuja`\n",
    "y_suzlon.plot(ax=ax, label=\"SUZLON\")\n",
    "y_ambuja.plot(ax=ax, label=\"AMBUJACEM\")\n",
    "\n",
    "# Label axes\n",
    "plt.xlabel(\"Date\")\n",
    "plt.ylabel(\"Return\")\n",
    "\n",
    "# Add legend\n",
    "plt.legend();"
   ]
  },
  {
   "cell_type": "code",
   "execution_count": null,
   "id": "e801a810",
   "metadata": {},
   "outputs": [],
   "source": [
    "# Create histogram of `y_ambuja`, 25 bins\n",
    "plt.hist(y_ambuja, bins=25)\n",
    "\n",
    "# Add axis labels\n",
    "plt.xlabel(\"Daily Returns\")\n",
    "plt.ylabel(\"Frequency [count]\")\n",
    "\n",
    "# Add title\n",
    "plt.title(\"Distribution of Ambuja Cement Daily Returns\")"
   ]
  },
  {
   "cell_type": "code",
   "execution_count": null,
   "id": "4c9ed0c7",
   "metadata": {},
   "outputs": [],
   "source": [
    "suzlon_daily_volatility = y_suzlon.std()\n",
    "ambuja_daily_volatility = y_ambuja.std()\n",
    "\n",
    "print(\"Suzlon Daily Volatility:\", suzlon_daily_volatility)\n",
    "print(\"Ambuja Daily Volatility:\", ambuja_daily_volatility)"
   ]
  },
  {
   "cell_type": "code",
   "execution_count": null,
   "id": "f8bccc4b",
   "metadata": {},
   "outputs": [],
   "source": [
    "suzlon_annual_volatility = suzlon_daily_volatility * np.sqrt(252)\n",
    "ambuja_annual_volatility = ambuja_daily_volatility * np.sqrt(252)\n",
    "\n",
    "print(\"Suzlon Annual Volatility:\", suzlon_annual_volatility)\n",
    "print(\"Ambuja Annual Volatility:\", ambuja_annual_volatility)"
   ]
  },
  {
   "cell_type": "code",
   "execution_count": null,
   "id": "5a60c0a4",
   "metadata": {},
   "outputs": [],
   "source": [
    "ambuja_rolling_50d_volatility = y_ambuja.rolling(window=50).std().dropna()\n",
    "\n",
    "print(\"rolling_50d_volatility type:\", type(ambuja_rolling_50d_volatility))\n",
    "print(\"rolling_50d_volatility shape:\", ambuja_rolling_50d_volatility.shape)\n",
    "ambuja_rolling_50d_volatility.head()"
   ]
  },
  {
   "cell_type": "code",
   "execution_count": null,
   "id": "4fbf25cd",
   "metadata": {},
   "outputs": [],
   "source": [
    "fig, ax = plt.subplots(figsize=(15, 6))\n",
    "\n",
    "# Plot `y_ambuja`\n",
    "y_ambuja.plot(ax=ax, label=\"Daily Return\")\n",
    "\n",
    "# Plot `ambuja_rolling_50d_volatility`\n",
    "ambuja_rolling_50d_volatility.plot(ax=ax, label=\"50d rolling volatility\", linewidth=3)\n",
    "\n",
    "# Add x-axis label\n",
    "plt.xlabel(\"Date\")\n",
    "\n",
    "# Add legend\n",
    "plt.legend(\"\");"
   ]
  },
  {
   "cell_type": "code",
   "execution_count": null,
   "id": "3bd80b2c",
   "metadata": {},
   "outputs": [],
   "source": [
    "fig, ax = plt.subplots(figsize=(15, 6))\n",
    "\n",
    "# Plot squared returns\n",
    "(y_ambuja**2).plot(ax=ax)\n",
    "\n",
    "# Add axis labels\n",
    "plt.xlabel(\"Date\")\n",
    "plt.ylabel(\"Squared Returns\");"
   ]
  },
  {
   "cell_type": "code",
   "execution_count": null,
   "id": "b1326554",
   "metadata": {},
   "outputs": [],
   "source": [
    "fig, ax = plt.subplots(figsize=(15, 6))\n",
    "\n",
    "# Create ACF of squared returns\n",
    "plot_acf(y_ambuja**2, ax=ax)\n",
    "\n",
    "# Add axis labels\n",
    "plt.xlabel(\"Lag [days]\")\n",
    "plt.ylabel(\"Correlation Coefficient\")"
   ]
  },
  {
   "cell_type": "code",
   "execution_count": null,
   "id": "d90337f6",
   "metadata": {},
   "outputs": [],
   "source": [
    "fig, ax = plt.subplots(figsize=(15, 6))\n",
    "\n",
    "# Create PACF of squared returns\n",
    "plot_pacf(y_ambuja**2, ax=ax)\n",
    "\n",
    "# Add axis labels\n",
    "plt.xlabel(\"Lags [days]\")\n",
    "plt.ylabel(\"Correlation Coefficient\")"
   ]
  },
  {
   "cell_type": "markdown",
   "id": "77bfae34",
   "metadata": {},
   "source": [
    "## Split"
   ]
  },
  {
   "cell_type": "markdown",
   "id": "fdec3c13",
   "metadata": {},
   "source": [
    "Note that we won't create a test set here. Rather, we'll use all of y_ambuja to conduct walk-forward validation after we've built our model."
   ]
  },
  {
   "cell_type": "code",
   "execution_count": null,
   "id": "df826f16",
   "metadata": {},
   "outputs": [],
   "source": [
    "y_ambuja.tail()"
   ]
  },
  {
   "cell_type": "code",
   "execution_count": null,
   "id": "32260acf",
   "metadata": {},
   "outputs": [],
   "source": [
    "cutoff_test = int(len(y_ambuja) * 0.8)\n",
    "y_ambuja_train = y_ambuja.iloc[:cutoff_test]\n",
    "\n",
    "print(\"y_ambuja_train type:\", type(y_ambuja_train))\n",
    "print(\"y_ambuja_train shape:\", y_ambuja_train.shape)\n",
    "y_ambuja_train.tail()"
   ]
  },
  {
   "cell_type": "markdown",
   "id": "79e9983a",
   "metadata": {},
   "source": [
    "# Build Model"
   ]
  },
  {
   "cell_type": "markdown",
   "id": "cc5172bc",
   "metadata": {},
   "source": [
    "### Iterate"
   ]
  },
  {
   "cell_type": "code",
   "execution_count": null,
   "id": "549e5d4d",
   "metadata": {},
   "outputs": [],
   "source": [
    "# Build and train model\n",
    "model = arch_model(\n",
    "    y_ambuja_train,\n",
    "    p=1,\n",
    "    q=1,\n",
    "    rescale=False\n",
    ").fit(disp=0)\n",
    "print(\"model type:\", type(model))\n",
    "\n",
    "# Show model summary\n",
    "model.summary()"
   ]
  },
  {
   "cell_type": "code",
   "execution_count": null,
   "id": "6311c84e",
   "metadata": {},
   "outputs": [],
   "source": [
    "print(model.bic)\n",
    "print(model.aic)"
   ]
  },
  {
   "cell_type": "code",
   "execution_count": null,
   "id": "639c0385",
   "metadata": {},
   "outputs": [],
   "source": [
    "model.conditional_volatility.tail()"
   ]
  },
  {
   "cell_type": "code",
   "execution_count": null,
   "id": "d91cdc94",
   "metadata": {},
   "outputs": [],
   "source": [
    "fig, ax = plt.subplots(figsize=(15, 6))\n",
    "\n",
    "# Plot `y_ambuja_train`\n",
    "y_ambuja_train.plot(ax=ax, label=\"Ambuja Daily Returns\")\n",
    "\n",
    "# Plot conditional volatility * 2\n",
    "(2 * model.conditional_volatility).plot(\n",
    "    ax=ax, color=\"C1\", label=\"2 SD Conditional Volatility\", linewidth=3\n",
    ")\n",
    "\n",
    "# Plot conditional volatility * -2\n",
    "(-2 * model.conditional_volatility.rename(\"\")).plot(\n",
    "    ax=ax, color=\"C1\", linewidth=3\n",
    ")\n",
    "\n",
    "# Add axis labels\n",
    "plt.xlabel(\"Date\")\n",
    "\n",
    "\n",
    "# Add legend\n",
    "plt.legend();"
   ]
  },
  {
   "cell_type": "code",
   "execution_count": null,
   "id": "6c98ebba",
   "metadata": {},
   "outputs": [],
   "source": [
    "fig, ax = plt.subplots(figsize=(15, 6))\n",
    "\n",
    "# Plot standardized residuals\n",
    "model.std_resid.plot(ax=ax, label=\"Standardized Residuals\")\n",
    "\n",
    "# Add axis labels\n",
    "plt.xlabel(\"Date\")\n",
    "\n",
    "# Add legend\n",
    "plt.legend();"
   ]
  },
  {
   "cell_type": "code",
   "execution_count": null,
   "id": "aa83d434",
   "metadata": {},
   "outputs": [],
   "source": [
    "# Create histogram of standardized residuals, 25 bins\n",
    "plt.hist(model.std_resid, bins=25)\n",
    "\n",
    "# Add axis labels\n",
    "plt.xlabel(\"Standardized Residual\")\n",
    "plt.ylabel(\"Frequency [count]\")\n",
    "\n",
    "# Add title\n",
    "plt.title(\"Distribution of Standardized Rediduals\");"
   ]
  },
  {
   "cell_type": "code",
   "execution_count": null,
   "id": "75b8b24b",
   "metadata": {},
   "outputs": [],
   "source": [
    "fig, ax = plt.subplots(figsize=(15, 6))\n",
    "\n",
    "# Create ACF of squared, standardized residuals\n",
    "plot_acf(model.std_resid**2, ax=ax)\n",
    "\n",
    "# Add axis labels\n",
    "plt.xlabel(\"Lag [days]\")\n",
    "plt.ylabel(\"Corrrelation Coefficient\");"
   ]
  },
  {
   "cell_type": "markdown",
   "id": "c8b38313",
   "metadata": {},
   "source": [
    "## Evaluate"
   ]
  },
  {
   "cell_type": "code",
   "execution_count": null,
   "id": "526c98a9",
   "metadata": {},
   "outputs": [],
   "source": [
    "y_ambuja_train.tail(1)"
   ]
  },
  {
   "cell_type": "code",
   "execution_count": null,
   "id": "500b1a42",
   "metadata": {},
   "outputs": [],
   "source": [
    "one_day_forecast = model.forecast(horizon=1, reindex=False).variance #horizon->no.of days in future we want to predict the result for\n",
    "\n",
    "print(\"one_day_forecast type:\", type(one_day_forecast))\n",
    "one_day_forecast"
   ]
  },
  {
   "cell_type": "code",
   "execution_count": null,
   "id": "1a6280c9",
   "metadata": {},
   "outputs": [],
   "source": [
    "np.sqrt(one_day_forecast.iloc[0,0])"
   ]
  },
  {
   "cell_type": "code",
   "execution_count": null,
   "id": "2aea42bd",
   "metadata": {},
   "outputs": [],
   "source": [
    "# or\n",
    "one_day_forecast.iloc[0,0]**0.5"
   ]
  },
  {
   "cell_type": "code",
   "execution_count": null,
   "id": "899dc653",
   "metadata": {},
   "outputs": [],
   "source": [
    "y_ambuja.head()"
   ]
  },
  {
   "cell_type": "code",
   "execution_count": null,
   "id": "2d029ee1",
   "metadata": {},
   "outputs": [],
   "source": [
    "y_ambuja.iloc[1999]"
   ]
  },
  {
   "cell_type": "code",
   "execution_count": null,
   "id": "de61aa43",
   "metadata": {},
   "outputs": [],
   "source": [
    "# Create empty list to hold predictions\n",
    "predictions = []\n",
    "\n",
    "# Calculate size of test data (20%)\n",
    "test_size = int(len(y_ambuja) * 0.2)\n",
    "\n",
    "# Walk forward\n",
    "for i in range(test_size):\n",
    "    # Create test data\n",
    "    y_train = y_ambuja.iloc[: -(test_size - i)]\n",
    "\n",
    "    # Train model\n",
    "    model = arch_model(y_train, p=1, q=1, rescale=False).fit(disp=0)\n",
    "\n",
    "    # Generate next prediction (volatility, not variance)\n",
    "    next_pred = model.forecast(horizon=1, reindex=False).variance.iloc[0,0] ** 0.2\n",
    "\n",
    "    # Append prediction to list\n",
    "    predictions.append(next_pred)\n",
    "\n",
    "# Create Series from predictions list\n",
    "y_test_wfv = pd.Series(predictions, index=y_ambuja.tail(test_size).index)\n",
    "\n",
    "print(\"y_test_wfv type:\", type(y_test_wfv))\n",
    "print(\"y_test_wfv shape:\", y_test_wfv.shape)\n",
    "y_test_wfv.head()"
   ]
  },
  {
   "cell_type": "code",
   "execution_count": null,
   "id": "9e5abb77",
   "metadata": {},
   "outputs": [],
   "source": [
    "fig, ax = plt.subplots(figsize=(15, 6))\n",
    "\n",
    "# Plot returns for test data\n",
    "y_ambuja.tail(test_size).plot(ax=ax, label=\"Ambuja Return\")\n",
    "\n",
    "# Plot volatility predictions * 2\n",
    "(2 * y_test_wfv).plot(ax=ax, c=\"C1\", label=\"2 SD Predicted Volatility\")\n",
    "\n",
    "# Plot volatility predictions * -2\n",
    "(-2 * y_test_wfv).plot(ax=ax, c=\"C1\")\n",
    "\n",
    "# Label axes\n",
    "plt.xlabel(\"Date\")\n",
    "plt.ylabel(\"Return\")\n",
    "\n",
    "# Add legend\n",
    "plt.legend();"
   ]
  },
  {
   "cell_type": "markdown",
   "id": "a13b82d4",
   "metadata": {},
   "source": [
    "# Communicate Results"
   ]
  },
  {
   "cell_type": "code",
   "execution_count": null,
   "id": "a5024fbd",
   "metadata": {},
   "outputs": [],
   "source": [
    "# Generate 5-day volatility forecast\n",
    "prediction = model.forecast(horizon=5, reindex=False).variance ** 0.5\n",
    "print(prediction)\n",
    "\n",
    "# Calculate forecast start date\n",
    "start = prediction.index[0] + pd.DateOffset(days=1)\n",
    "\n",
    "# Create date range\n",
    "prediction_dates = pd.bdate_range(start=start, periods=prediction.shape[1])\n",
    "\n",
    "# Create prediction index labels, ISO 8601 format\n",
    "prediction_index = [d.isoformat() for d in prediction_dates]\n",
    "\n",
    "print(\"prediction_index type:\", type(prediction_index))\n",
    "print(\"prediction_index len:\", len(prediction_index))\n",
    "prediction_index[:3]"
   ]
  },
  {
   "cell_type": "code",
   "execution_count": null,
   "id": "64bc8c69",
   "metadata": {},
   "outputs": [],
   "source": [
    "def clean_prediction(prediction):\n",
    "\n",
    "    \"\"\"Reformat model prediction to JSON.\n",
    "\n",
    "    Parameters\n",
    "    ----------\n",
    "    prediction : pd.DataFrame\n",
    "        Variance from a `ARCHModelForecast`\n",
    "\n",
    "    Returns\n",
    "    -------\n",
    "    dict\n",
    "        Forecast of volatility. Each key is date in ISO 8601 format.\n",
    "        Each value is predicted volatility.\n",
    "    \"\"\"\n",
    "    # Calculate forecast start date\n",
    "    start = prediction.index[0] + pd.DateOffset(days=1)\n",
    "\n",
    "    # Create date range\n",
    "    prediction_dates = pd.bdate_range(start=start, periods=prediction.shape[1])\n",
    "\n",
    "    # Create prediction index labels, ISO 8601 format\n",
    "    prediction_index = [d.isoformat() for d in prediction_dates]\n",
    "\n",
    "    # Extract predictions from DataFrame, get square root\n",
    "    data = prediction.values.flatten() ** 0.5\n",
    "\n",
    "    # Combine `data` and `prediction_index` into Series\n",
    "    prediction_formatted = pd.Series(data, index=prediction_index)\n",
    "\n",
    "    # Return Series as dictionary\n",
    "    return prediction_formatted.to_dict()"
   ]
  },
  {
   "cell_type": "code",
   "execution_count": null,
   "id": "cc651dd0",
   "metadata": {},
   "outputs": [],
   "source": [
    "prediction = model.forecast(horizon=10, reindex=False).variance\n",
    "prediction_formatted = clean_prediction(prediction)\n",
    "\n",
    "# Is `prediction_formatted` a dictionary?\n",
    "assert isinstance(prediction_formatted, dict)\n",
    "\n",
    "# Are keys correct data type?\n",
    "assert all(isinstance(k, str) for k in prediction_formatted.keys())\n",
    "\n",
    "# Are values correct data type\n",
    "assert all(isinstance(v, float) for v in prediction_formatted.values())\n",
    "\n",
    "prediction_formatted"
   ]
  }
 ],
 "metadata": {
  "kernelspec": {
   "display_name": "Python 3 (ipykernel)",
   "language": "python",
   "name": "python3"
  },
  "language_info": {
   "codemirror_mode": {
    "name": "ipython",
    "version": 3
   },
   "file_extension": ".py",
   "mimetype": "text/x-python",
   "name": "python",
   "nbconvert_exporter": "python",
   "pygments_lexer": "ipython3",
   "version": "3.11.4"
  }
 },
 "nbformat": 4,
 "nbformat_minor": 5
}
